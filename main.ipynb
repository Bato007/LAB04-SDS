{
 "cells": [
  {
   "cell_type": "code",
   "execution_count": 1,
   "metadata": {},
   "outputs": [],
   "source": [
    "import random\n",
    "import pandas as pd\n",
    "import numpy as np\n",
    "import matplotlib.pyplot as plt\n",
    "\n",
    "import sklearn.preprocessing\n",
    "import pyclustertend \n",
    "import sklearn.cluster as cluster\n",
    "from sklearn.cluster import KMeans\n",
    "from sklearn.metrics import silhouette_samples, silhouette_score\n",
    "import matplotlib.cm as cm\n",
    "from ast import literal_eval\n",
    "\n",
    "from scipy.spatial import distance\n",
    "from scipy.spatial.distance import pdist, squareform\n",
    "\n",
    "\n",
    "# np.warnings.filterwarnings('ignore', category=np.VisibleDeprecationWarning) "
   ]
  },
  {
   "cell_type": "code",
   "execution_count": 2,
   "metadata": {},
   "outputs": [],
   "source": [
    "# Global Variables\n",
    "seed = random.seed(123)"
   ]
  },
  {
   "attachments": {},
   "cell_type": "markdown",
   "metadata": {},
   "source": [
    "# Analisis Exploratorio"
   ]
  },
  {
   "cell_type": "code",
   "execution_count": 3,
   "metadata": {},
   "outputs": [],
   "source": [
    "# Variable classification\n",
    "data = pd.read_csv('./data.csv', encoding = \"ISO-8859-1\")\n",
    "data = data.drop('index', axis=1)\n",
    "data['dll'] = data['dll'].apply(literal_eval)\n",
    "data['functions'] = data['functions'].apply(literal_eval)\n",
    "data = data.explode('dll')\n",
    "data = data.explode('functions')"
   ]
  },
  {
   "cell_type": "code",
   "execution_count": 4,
   "metadata": {},
   "outputs": [
    {
     "data": {
      "text/html": [
       "<div>\n",
       "<style scoped>\n",
       "    .dataframe tbody tr th:only-of-type {\n",
       "        vertical-align: middle;\n",
       "    }\n",
       "\n",
       "    .dataframe tbody tr th {\n",
       "        vertical-align: top;\n",
       "    }\n",
       "\n",
       "    .dataframe thead th {\n",
       "        text-align: right;\n",
       "    }\n",
       "</style>\n",
       "<table border=\"1\" class=\"dataframe\">\n",
       "  <thead>\n",
       "    <tr style=\"text-align: right;\">\n",
       "      <th></th>\n",
       "      <th>filename</th>\n",
       "      <th>sections</th>\n",
       "      <th>dll</th>\n",
       "      <th>functions</th>\n",
       "      <th>date</th>\n",
       "    </tr>\n",
       "  </thead>\n",
       "  <tbody>\n",
       "    <tr>\n",
       "      <th>0</th>\n",
       "      <td>RTC_7F85D7F628CE62D1D8F7B39D8940472</td>\n",
       "      <td>[['IMAGE_SECTION_HEADER', '0x1000', '0x1ef000'...</td>\n",
       "      <td>KERNEL32.DLL</td>\n",
       "      <td>LoadLibraryA</td>\n",
       "      <td>Mon May 30 08:29:29 2011 UTC</td>\n",
       "    </tr>\n",
       "    <tr>\n",
       "      <th>0</th>\n",
       "      <td>RTC_7F85D7F628CE62D1D8F7B39D8940472</td>\n",
       "      <td>[['IMAGE_SECTION_HEADER', '0x1000', '0x1ef000'...</td>\n",
       "      <td>KERNEL32.DLL</td>\n",
       "      <td>ExitProcess</td>\n",
       "      <td>Mon May 30 08:29:29 2011 UTC</td>\n",
       "    </tr>\n",
       "    <tr>\n",
       "      <th>0</th>\n",
       "      <td>RTC_7F85D7F628CE62D1D8F7B39D8940472</td>\n",
       "      <td>[['IMAGE_SECTION_HEADER', '0x1000', '0x1ef000'...</td>\n",
       "      <td>KERNEL32.DLL</td>\n",
       "      <td>GetProcAddress</td>\n",
       "      <td>Mon May 30 08:29:29 2011 UTC</td>\n",
       "    </tr>\n",
       "    <tr>\n",
       "      <th>0</th>\n",
       "      <td>RTC_7F85D7F628CE62D1D8F7B39D8940472</td>\n",
       "      <td>[['IMAGE_SECTION_HEADER', '0x1000', '0x1ef000'...</td>\n",
       "      <td>KERNEL32.DLL</td>\n",
       "      <td>VirtualProtect</td>\n",
       "      <td>Mon May 30 08:29:29 2011 UTC</td>\n",
       "    </tr>\n",
       "    <tr>\n",
       "      <th>0</th>\n",
       "      <td>RTC_7F85D7F628CE62D1D8F7B39D8940472</td>\n",
       "      <td>[['IMAGE_SECTION_HEADER', '0x1000', '0x1ef000'...</td>\n",
       "      <td>KERNEL32.DLL</td>\n",
       "      <td>_iob</td>\n",
       "      <td>Mon May 30 08:29:29 2011 UTC</td>\n",
       "    </tr>\n",
       "  </tbody>\n",
       "</table>\n",
       "</div>"
      ],
      "text/plain": [
       "                              filename  \\\n",
       "0  RTC_7F85D7F628CE62D1D8F7B39D8940472   \n",
       "0  RTC_7F85D7F628CE62D1D8F7B39D8940472   \n",
       "0  RTC_7F85D7F628CE62D1D8F7B39D8940472   \n",
       "0  RTC_7F85D7F628CE62D1D8F7B39D8940472   \n",
       "0  RTC_7F85D7F628CE62D1D8F7B39D8940472   \n",
       "\n",
       "                                            sections           dll  \\\n",
       "0  [['IMAGE_SECTION_HEADER', '0x1000', '0x1ef000'...  KERNEL32.DLL   \n",
       "0  [['IMAGE_SECTION_HEADER', '0x1000', '0x1ef000'...  KERNEL32.DLL   \n",
       "0  [['IMAGE_SECTION_HEADER', '0x1000', '0x1ef000'...  KERNEL32.DLL   \n",
       "0  [['IMAGE_SECTION_HEADER', '0x1000', '0x1ef000'...  KERNEL32.DLL   \n",
       "0  [['IMAGE_SECTION_HEADER', '0x1000', '0x1ef000'...  KERNEL32.DLL   \n",
       "\n",
       "        functions                          date  \n",
       "0    LoadLibraryA  Mon May 30 08:29:29 2011 UTC  \n",
       "0     ExitProcess  Mon May 30 08:29:29 2011 UTC  \n",
       "0  GetProcAddress  Mon May 30 08:29:29 2011 UTC  \n",
       "0  VirtualProtect  Mon May 30 08:29:29 2011 UTC  \n",
       "0            _iob  Mon May 30 08:29:29 2011 UTC  "
      ]
     },
     "execution_count": 4,
     "metadata": {},
     "output_type": "execute_result"
    }
   ],
   "source": [
    "data.head()"
   ]
  },
  {
   "cell_type": "code",
   "execution_count": 5,
   "metadata": {},
   "outputs": [],
   "source": [
    "from sklearn.preprocessing import LabelEncoder\n",
    "label_encoder = LabelEncoder()\n",
    "\n",
    "y = label_encoder.fit_transform(data[\"functions\"].to_list())\n",
    "\n",
    "data[\"functions encoded\"]= y\n",
    "\n",
    "\n",
    "y = label_encoder.fit_transform(data[\"dll\"].to_list())\n",
    "data[\"dll encoded\"]= y\n",
    "\n"
   ]
  },
  {
   "attachments": {},
   "cell_type": "markdown",
   "metadata": {},
   "source": [
    "# Graficas de barras"
   ]
  },
  {
   "cell_type": "code",
   "execution_count": 6,
   "metadata": {},
   "outputs": [
    {
     "name": "stdout",
     "output_type": "stream",
     "text": [
      "                                        name  count\n",
      "0      KLp90_6D5C8FC4B14559F73B6136D85B94198    595\n",
      "1        SAM_B659D71AE168E774FAAF38DB30F4A84    595\n",
      "2       DS22_A670D13D4D014169C4080328B8FEB86    595\n",
      "3       NV99_C9C9DBF388A8D81D8CFB4D3FC05F8E4    595\n",
      "4      POL55_A4F1ECC4D25B33395196B5D51A06790    595\n",
      "5      GBV66_8F259BB36E00D124963CFA9B86F502E    595\n",
      "6        K99_C3A9A7B026BFE0E55FF219FD6AA7D94    595\n",
      "7       GFT4_7DDD3D72EAD03C7518F5D47650C8572    510\n",
      "8     VC990_468FF2C12CFFC7E5B2FE0EE6BB3B239E    108\n",
      "9    TG78Z__727A6800991EEAD454E53E8AF164A99C    108\n",
      "10     B98hX8E8622C393D7E832D39E620EAD5D3B49     88\n",
      "11     AL65_DB05DF0498B59B42A8E493CF3C10C578     80\n",
      "12   FGTR43_EF8E0FB20E7228C7492CCDC59D87C690     80\n",
      "13      QW2_4C6BDDCCA2695D6202DF38708E14FC7E     80\n",
      "14     PL98_BD8B082B7711BC980252F988BB0CA936     80\n",
      "15     AAAz2E1B6940985A23E5639450F8391820655     80\n",
      "16      L11_1415EB8519D13328091CC5C76A624E3D     40\n",
      "17  FGJKJJ1_2BA0D0083976A5C1E3315413CDCFFCD2     40\n",
      "18          785003A405BC7A4EBCBB21DDB757BF3F     40\n",
      "19          99A39866A657A10949FCB6D634BB30D5     40\n",
      "20          33DE5067A433A6EC5C328067DC18EC37     40\n",
      "21      NBV_8B75BCBFF174C25A0161F30758509A44     40\n",
      "22      JH78C0A33A1B472A8C16123FD696A5CE5EBB     40\n",
      "23      FHHH6576C196385407B0F7F4B1B537D88983     40\n",
      "24          650A6FCA433EE243391E4B4C11F09438     40\n",
      "25     VBMM9_149B7BD7218AAB4E257D28469FDDB0D     40\n",
      "26          A316D5AECA269CA865077E7FFF356E7D     40\n",
      "27      JKK8CA6FE7A1315AF5AFEAC2961460A80569     40\n",
      "28          F8437E44748D2C3FCF84019766F4E6DC     40\n",
      "29      BVJ2D9FBF759F527AF373E34673DC3ACA462     40\n",
      "30       RTC_7F85D7F628CE62D1D8F7B39D8940472     40\n",
      "31          65018CD542145A3792BA09985734C12A     40\n",
      "32          6FAA4740F99408D4D2DDDD0B09BBDEFD     40\n",
      "33       HJGQDD892986B2249B5214639ECC8AC0223     40\n",
      "34     EEE99EC8AA67B05407C01094184C33D2B5A44     28\n",
      "35      FTTR9EA3C16194CE354C244C1B74C46CD92E     28\n",
      "36          F6655E39465C2FF5B016980D918EA028     28\n",
      "37          8442AE37B91F279A9F06DE4C60B286A3     28\n",
      "38          1F2EB7B090018D975E6D9B40868C94CA     28\n",
      "39          B07322743778B5868475DBE66EEDAC4F     28\n"
     ]
    },
    {
     "data": {
      "text/plain": [
       "<Figure size 1440x360 with 0 Axes>"
      ]
     },
     "metadata": {},
     "output_type": "display_data"
    },
    {
     "data": {
      "image/png": "[encoded data removed]",
      "text/plain": [
       "<Figure size 432x288 with 1 Axes>"
      ]
     },
     "metadata": {
      "needs_background": "light"
     },
     "output_type": "display_data"
    },
    {
     "name": "stdout",
     "output_type": "stream",
     "text": [
      "                                                 name  count\n",
      "0   [['IMAGE_SECTION_HEADER', '0x1000', '0x25ca', ...   2380\n",
      "1   [['IMAGE_SECTION_HEADER', '0x1000', '0x25da', ...   1190\n",
      "2   [['IMAGE_SECTION_HEADER', '0x1000', '0x5000', ...    600\n",
      "3   [['IMAGE_SECTION_HEADER', '0x1000', '0x25da', ...    595\n",
      "4   [['IMAGE_SECTION_HEADER', '0x1000', '0x248a', ...    510\n",
      "5   [['IMAGE_SECTION_HEADER', '0x1000', '0x70000',...    240\n",
      "6   [['IMAGE_SECTION_HEADER', '0x1000', '0x68000',...    216\n",
      "7   [['IMAGE_SECTION_HEADER', '0x1000', '0x5000', ...    168\n",
      "8   [['IMAGE_SECTION_HEADER', '0x1000', '0x5f000',...    160\n",
      "9   [['IMAGE_SECTION_HEADER', '0x1000', '0x1ef000'...    120\n",
      "10  [['IMAGE_SECTION_HEADER', '0x1000', '0x50000',...     88\n"
     ]
    },
    {
     "data": {
      "text/plain": [
       "<Figure size 1440x360 with 0 Axes>"
      ]
     },
     "metadata": {},
     "output_type": "display_data"
    },
    {
     "data": {
      "image/png": "[encoded data removed]",
      "text/plain": [
       "<Figure size 432x288 with 1 Axes>"
      ]
     },
     "metadata": {
      "needs_background": "light"
     },
     "output_type": "display_data"
    },
    {
     "name": "stdout",
     "output_type": "stream",
     "text": [
      "            name  count\n",
      "0     WS2_32.dll    951\n",
      "1     MSVCRT.dll    951\n",
      "2     USER32.dll    927\n",
      "3   ADVAPI32.dll    765\n",
      "4    SHELL32.dll    739\n",
      "5    WININET.dll    704\n",
      "6   KERNEL32.dll    680\n",
      "7   KERNEL32.DLL    271\n",
      "8      GDI32.dll     85\n",
      "9   NETAPI32.dll     85\n",
      "10     PSAPI.DLL     55\n",
      "11     ntdll.dll     54\n"
     ]
    },
    {
     "data": {
      "text/plain": [
       "<Figure size 1440x360 with 0 Axes>"
      ]
     },
     "metadata": {},
     "output_type": "display_data"
    },
    {
     "data": {
      "image/png": "[encoded data removed]",
      "text/plain": [
       "<Figure size 432x288 with 1 Axes>"
      ]
     },
     "metadata": {
      "needs_background": "light"
     },
     "output_type": "display_data"
    },
    {
     "name": "stdout",
     "output_type": "stream",
     "text": [
      "                            name  count\n",
      "0                   LoadLibraryA    180\n",
      "1                 GetProcAddress    180\n",
      "2                 VirtualProtect    180\n",
      "3                           atol    154\n",
      "4                    ExitProcess    140\n",
      "..                           ...    ...\n",
      "112        ChangeServiceConfig2A      6\n",
      "113           CloseServiceHandle      6\n",
      "114                    CopyFileA      6\n",
      "115  StartServiceCtrlDispatcherA      6\n",
      "116           QueryServiceStatus      6\n",
      "\n",
      "[117 rows x 2 columns]\n"
     ]
    },
    {
     "data": {
      "text/plain": [
       "<Figure size 1440x360 with 0 Axes>"
      ]
     },
     "metadata": {},
     "output_type": "display_data"
    },
    {
     "data": {
      "image/png": "[encoded data removed]",
      "text/plain": [
       "<Figure size 432x288 with 1 Axes>"
      ]
     },
     "metadata": {
      "needs_background": "light"
     },
     "output_type": "display_data"
    },
    {
     "name": "stdout",
     "output_type": "stream",
     "text": [
      "                            name  count\n",
      "0   Tue Sep 28 08:09:41 2010 UTC   2380\n",
      "1   Fri Jul 29 07:10:31 2011 UTC    595\n",
      "2   Tue Aug  9 08:15:29 2011 UTC    595\n",
      "3   Thu Aug 11 13:15:49 2011 UTC    595\n",
      "4   Fri Aug 19 03:07:37 2011 UTC    510\n",
      "5   Thu May 14 17:12:40 2009 UTC    480\n",
      "6   Tue Jan 11 03:22:02 2011 UTC    216\n",
      "7   Fri Jan 15 17:20:56 2010 UTC    168\n",
      "8   Wed Oct 19 09:19:09 2011 UTC    160\n",
      "9   Sun Nov 18 23:50:13 2007 UTC    120\n",
      "10  Mon May 30 08:29:29 2011 UTC    120\n",
      "11  Tue Apr 20 03:39:27 2010 UTC     88\n",
      "12  Tue Feb  9 08:29:43 2010 UTC     80\n",
      "13  Wed Feb  3 08:22:33 2010 UTC     80\n",
      "14  Wed Oct 19 09:16:10 2011 UTC     80\n"
     ]
    },
    {
     "data": {
      "text/plain": [
       "<Figure size 1440x360 with 0 Axes>"
      ]
     },
     "metadata": {},
     "output_type": "display_data"
    },
    {
     "data": {
      "image/png": "[encoded data removed]",
      "text/plain": [
       "<Figure size 432x288 with 1 Axes>"
      ]
     },
     "metadata": {
      "needs_background": "light"
     },
     "output_type": "display_data"
    },
    {
     "name": "stdout",
     "output_type": "stream",
     "text": [
      "     name  count\n",
      "0      62    180\n",
      "1      21    180\n",
      "2      37    180\n",
      "3      87    154\n",
      "4      12    140\n",
      "..    ...    ...\n",
      "112    18      6\n",
      "113   101      6\n",
      "114    61      6\n",
      "115    45      6\n",
      "116    60      6\n",
      "\n",
      "[117 rows x 2 columns]\n"
     ]
    },
    {
     "data": {
      "text/plain": [
       "<Figure size 1440x360 with 0 Axes>"
      ]
     },
     "metadata": {},
     "output_type": "display_data"
    },
    {
     "data": {
      "image/png": "[encoded data removed]",
      "text/plain": [
       "<Figure size 432x288 with 1 Axes>"
      ]
     },
     "metadata": {
      "needs_background": "light"
     },
     "output_type": "display_data"
    },
    {
     "name": "stdout",
     "output_type": "stream",
     "text": [
      "    name  count\n",
      "0     10    951\n",
      "1      4    951\n",
      "2      8    927\n",
      "3      0    765\n",
      "4      7    739\n",
      "5      9    704\n",
      "6      3    680\n",
      "7      2    271\n",
      "8      5     85\n",
      "9      1     85\n",
      "10     6     55\n",
      "11    11     54\n"
     ]
    },
    {
     "data": {
      "text/plain": [
       "<Figure size 1440x360 with 0 Axes>"
      ]
     },
     "metadata": {},
     "output_type": "display_data"
    },
    {
     "data": {
      "image/png": "[encoded data removed]",
      "text/plain": [
       "<Figure size 432x288 with 1 Axes>"
      ]
     },
     "metadata": {
      "needs_background": "light"
     },
     "output_type": "display_data"
    }
   ],
   "source": [
    "# font = {'family' : 'normal',\n",
    "#         'weight' : 'bold',\n",
    "#         'size'   : 35}\n",
    "\n",
    "# plt.rc('font', **font)\n",
    "\n",
    "for var in data.columns:\n",
    "  plt.figure(figsize=(20,5))\n",
    "\n",
    "  sf=data[var].value_counts()\n",
    "  labels = pd.DataFrame({'name':sf.index, 'count':sf.values})\n",
    "  labels['index'] = labels.index\n",
    "\n",
    "  labels.plot(x=\"index\", y=[\"count\"], kind=\"bar\")\n",
    "  print(labels[[\"name\", \"count\"]])\n",
    "  plt.title(var)\n",
    "  plt.show()"
   ]
  },
  {
   "attachments": {},
   "cell_type": "markdown",
   "metadata": {},
   "source": [
    "# Quantitative data"
   ]
  },
  {
   "cell_type": "code",
   "execution_count": 7,
   "metadata": {},
   "outputs": [],
   "source": [
    "quantitative_df = data[[\"dll encoded\", \"functions encoded\"]]\n",
    "columns = [\"dll\", \"functions\"]"
   ]
  },
  {
   "cell_type": "code",
   "execution_count": 8,
   "metadata": {},
   "outputs": [
    {
     "data": {
      "text/plain": [
       "0.0059302228653841235"
      ]
     },
     "execution_count": 8,
     "metadata": {},
     "output_type": "execute_result"
    }
   ],
   "source": [
    "X_scale=sklearn.preprocessing.scale(quantitative_df)\n",
    "pyclustertend.hopkins(X_scale, len(X_scale))"
   ]
  },
  {
   "cell_type": "code",
   "execution_count": 9,
   "metadata": {},
   "outputs": [
    {
     "data": {
      "image/png": "[encoded data removed]",
      "text/plain": [
       "<Figure size 720x720 with 1 Axes>"
      ]
     },
     "metadata": {
      "needs_background": "light"
     },
     "output_type": "display_data"
    }
   ],
   "source": [
    "pyclustertend.vat(quantitative_df[:70])"
   ]
  },
  {
   "attachments": {},
   "cell_type": "markdown",
   "metadata": {},
   "source": [
    "# Grafica codo"
   ]
  },
  {
   "cell_type": "code",
   "execution_count": 10,
   "metadata": {},
   "outputs": [
    {
     "name": "stdout",
     "output_type": "stream",
     "text": [
      "Inertia con i  1    valor  12534.000000000005\n",
      "Inertia con i  2    valor  7388.617663048713\n",
      "Inertia con i  3    valor  4544.338479957387\n",
      "Inertia con i  4    valor  2535.5512378874255\n",
      "Inertia con i  5    valor  2135.52039243014\n"
     ]
    },
    {
     "data": {
      "image/png": "[encoded data removed]",
      "text/plain": [
       "<Figure size 432x288 with 1 Axes>"
      ]
     },
     "metadata": {
      "needs_background": "light"
     },
     "output_type": "display_data"
    }
   ],
   "source": [
    "numeroClusters = range(1,6)\n",
    "\n",
    "wcss = []\n",
    "# Obtenemos 10 posibles clusters\n",
    "for i in numeroClusters:\n",
    "    # Se calcula la kmean con esa cantidad de clusters\n",
    "    kmeans = cluster.KMeans(n_clusters=i)\n",
    "    kmeans.fit(X_scale)\n",
    "    # Obtenemos la inercia\n",
    "    wcss.append(kmeans.inertia_)\n",
    "    print(\"Inertia con i \", i, \"   valor \", kmeans.inertia_)\n",
    "\n",
    "# Graficando\n",
    "plt.plot(numeroClusters, wcss)\n",
    "plt.xlabel(\"Cantidad de clusters\")\n",
    "plt.ylabel(\"WCSS\")\n",
    "plt.title(\"Gráfico de Codo\")\n",
    "plt.show()"
   ]
  },
  {
   "attachments": {},
   "cell_type": "markdown",
   "metadata": {},
   "source": [
    "# Construyendo modelo"
   ]
  },
  {
   "cell_type": "code",
   "execution_count": 11,
   "metadata": {},
   "outputs": [],
   "source": [
    "number_clusters = 4"
   ]
  },
  {
   "cell_type": "code",
   "execution_count": 12,
   "metadata": {},
   "outputs": [
    {
     "data": {
      "image/png": "[encoded data removed]",
      "text/plain": [
       "<Figure size 432x288 with 1 Axes>"
      ]
     },
     "metadata": {
      "needs_background": "light"
     },
     "output_type": "display_data"
    }
   ],
   "source": [
    "kmeans_cluster = KMeans(n_clusters=number_clusters, max_iter=3)\n",
    "kmeans_cluster.fit(X_scale)\n",
    "kmeans_result = kmeans_cluster.predict(X_scale)\n",
    "\n",
    "# Plot\n",
    "plt.scatter(X_scale[kmeans_result == 0, 0], X_scale[kmeans_result == 0, 1], s = 100, c = 'red', label = \"Cluster 1\")\n",
    "plt.scatter(X_scale[kmeans_result == 1, 0], X_scale[kmeans_result == 1, 1], s = 100, c = 'blue', label = \"Cluster 2\")\n",
    "plt.scatter(X_scale[kmeans_result == 2, 0], X_scale[kmeans_result == 2, 1], s = 100, c = 'lime', label = \"Cluster 3\")\n",
    "plt.scatter(X_scale[kmeans_result == 3, 0], X_scale[kmeans_result == 3, 1], s = 100, c = 'green', label = \"Cluster 4\")\n",
    "\n",
    "\n",
    "\n",
    "plt.scatter(kmeans_cluster.cluster_centers_[:,0], kmeans_cluster.cluster_centers_[:,1], s=300, c=\"yellow\",marker=\"*\", label=\"Centroides\")\n",
    "plt.title(\"Metodo de K-Medias\")\n",
    "\n",
    "plt.xlabel(columns[0])\n",
    "plt.ylabel(columns[1])\n",
    "plt.legend()\n",
    "plt.show()"
   ]
  },
  {
   "cell_type": "code",
   "execution_count": 13,
   "metadata": {},
   "outputs": [],
   "source": [
    "data['Cluster'] = kmeans_result"
   ]
  },
  {
   "attachments": {},
   "cell_type": "markdown",
   "metadata": {},
   "source": [
    "# Silhouette"
   ]
  },
  {
   "cell_type": "code",
   "execution_count": 14,
   "metadata": {},
   "outputs": [
    {
     "name": "stdout",
     "output_type": "stream",
     "text": [
      "For n_clusters = 4 The average silhouette_score of K-Means is: 0.49419736850584384\n"
     ]
    },
    {
     "data": {
      "image/png": "[encoded data removed]",
      "text/plain": [
       "<Figure size 1296x504 with 1 Axes>"
      ]
     },
     "metadata": {
      "needs_background": "light"
     },
     "output_type": "display_data"
    }
   ],
   "source": [
    "def make_silhouette(clusterer, n_clusters, label):\n",
    "    fig, ax = plt.subplots(figsize=(1,1))\n",
    "    fig.set_size_inches(18, 7)\n",
    "\n",
    "    ax.set_xlim([-0.1, 1])\n",
    "    ax.set_ylim([0, len(X_scale) + (n_clusters + 1) * 10])\n",
    "\n",
    "    cluster_labels = clusterer.fit_predict(X_scale)\n",
    "\n",
    "    silhouette_avg = silhouette_score(X_scale, cluster_labels)\n",
    "    print(\n",
    "        \"For n_clusters =\",\n",
    "        n_clusters,\n",
    "        \"The average silhouette_score of\",\n",
    "        label,\n",
    "        'is:',\n",
    "        silhouette_avg,\n",
    "    )\n",
    "\n",
    "    sample_silhouette_values = silhouette_samples(quantitative_df, cluster_labels)\n",
    "\n",
    "    y_lower = 10\n",
    "    for i in range(n_clusters):\n",
    "        ith_cluster_silhouette_values = sample_silhouette_values[cluster_labels == i]\n",
    "\n",
    "        ith_cluster_silhouette_values.sort()\n",
    "\n",
    "        size_cluster_i = ith_cluster_silhouette_values.shape[0]\n",
    "        y_upper = y_lower + size_cluster_i\n",
    "\n",
    "        color = cm.nipy_spectral(float(i) / n_clusters)\n",
    "        ax.fill_betweenx(\n",
    "            np.arange(y_lower, y_upper),\n",
    "            0,\n",
    "            ith_cluster_silhouette_values,\n",
    "            facecolor=color,\n",
    "            edgecolor=color,\n",
    "            alpha=0.7,\n",
    "        )\n",
    "\n",
    "        ax.text(-0.05, y_lower + 0.5 * size_cluster_i, str(i))\n",
    "\n",
    "        y_lower = y_upper + 10  # 10 for the 0 samples\n",
    "\n",
    "    ax.set_title(label)\n",
    "    ax.set_xlabel(\"The silhouette coefficient values\")\n",
    "    ax.set_ylabel(\"Cluster label\")\n",
    "\n",
    "    ax.axvline(x=silhouette_avg, color=\"red\", linestyle=\"--\")\n",
    "\n",
    "    ax.set_yticks([]) \n",
    "    ax.set_xticks([-0.1, 0, 0.2, 0.4, 0.6, 0.8, 1])\n",
    "\n",
    "make_silhouette(kmeans_cluster, number_clusters, 'K-Means')\n",
    "plt.show()"
   ]
  },
  {
   "attachments": {},
   "cell_type": "markdown",
   "metadata": {},
   "source": [
    "# Jaccard"
   ]
  },
  {
   "cell_type": "code",
   "execution_count": 15,
   "metadata": {},
   "outputs": [
    {
     "name": "stdout",
     "output_type": "stream",
     "text": [
      "Cluster num:  0\n",
      "Jaccard distance:  1.0\n",
      "Matrix 2D: \n",
      "[[0.  0.5 0.5 ... 0.5 0.  0. ]\n",
      " [0.5 0.  0.5 ... 0.  0.5 0. ]\n",
      " [0.5 0.5 0.  ... 0.  0.  0. ]\n",
      " ...\n",
      " [0.5 0.  0.  ... 0.  0.5 0.5]\n",
      " [0.  0.5 0.  ... 0.5 0.  0.5]\n",
      " [0.  0.  0.  ... 0.5 0.5 0. ]]\n",
      "\n",
      "\n",
      "\n",
      "Cluster num:  1\n",
      "Jaccard distance:  1.0\n",
      "Matrix 2D: \n",
      "[[0.  0.5 0.5 ... 0.5 0.  0. ]\n",
      " [0.5 0.  0.5 ... 0.  0.5 0. ]\n",
      " [0.5 0.5 0.  ... 0.  0.  0. ]\n",
      " ...\n",
      " [0.5 0.  0.  ... 0.  0.5 0.5]\n",
      " [0.  0.5 0.  ... 0.5 0.  0.5]\n",
      " [0.  0.  0.  ... 0.5 0.5 0. ]]\n",
      "\n",
      "\n",
      "\n",
      "Cluster num:  2\n",
      "Jaccard distance:  0.9985272459499264\n",
      "Matrix 2D: \n",
      "[[0.  0.5 0.5 ... 0.  0.  0. ]\n",
      " [0.5 0.  0.5 ... 0.  0.  0. ]\n",
      " [0.5 0.5 0.  ... 0.  0.  0. ]\n",
      " ...\n",
      " [0.  0.  0.  ... 0.  0.5 0.5]\n",
      " [0.  0.  0.  ... 0.5 0.  0.5]\n",
      " [0.  0.  0.  ... 0.5 0.5 0. ]]\n",
      "\n",
      "\n",
      "\n",
      "Cluster num:  3\n",
      "Jaccard distance:  0.9838006230529595\n",
      "Matrix 2D: \n",
      "[[0.  0.5 0.5 ... 0.  0.  0. ]\n",
      " [0.5 0.  0.5 ... 0.  0.  0. ]\n",
      " [0.5 0.5 0.  ... 0.  0.  0. ]\n",
      " ...\n",
      " [0.  0.  0.  ... 0.  0.5 0.5]\n",
      " [0.  0.  0.  ... 0.5 0.  0.5]\n",
      " [0.  0.  0.  ... 0.5 0.5 0. ]]\n",
      "\n",
      "\n",
      "\n"
     ]
    }
   ],
   "source": [
    "quantitative_variables = [\"dll encoded\", \"functions encoded\"]\n",
    "\n",
    "for i in range(number_clusters):\n",
    "    print(\"Cluster num: \", i)\n",
    "    cluster = data[data[\"Cluster\"] == i]\n",
    "\n",
    "    res = distance.jaccard(cluster[quantitative_variables[0]], cluster[quantitative_variables[1]])\n",
    "    print(\"Jaccard distance: \", res)\n",
    "\n",
    "    res = 1 - pdist(cluster[[quantitative_variables[0], quantitative_variables[1]]], 'jaccard')\n",
    "    dist = squareform(res)\n",
    "    print(\"Matrix 2D: \")\n",
    "    print(dist)\n",
    "    print(\"\\n\\n\")"
   ]
  }
 ],
 "metadata": {
  "kernelspec": {
   "display_name": "Python 3",
   "language": "python",
   "name": "python3"
  },
  "language_info": {
   "codemirror_mode": {
    "name": "ipython",
    "version": 3
   },
   "file_extension": ".py",
   "mimetype": "text/x-python",
   "name": "python",
   "nbconvert_exporter": "python",
   "pygments_lexer": "ipython3",
   "version": "3.10.6"
  },
  "orig_nbformat": 4
 },
 "nbformat": 4,
 "nbformat_minor": 2
}
